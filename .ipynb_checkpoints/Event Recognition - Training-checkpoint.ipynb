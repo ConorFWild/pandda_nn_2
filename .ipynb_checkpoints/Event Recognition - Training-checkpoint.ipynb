{
 "cells": [
  {
   "cell_type": "markdown",
   "metadata": {},
   "source": [
    "# Magics"
   ]
  },
  {
   "cell_type": "code",
   "execution_count": 1,
   "metadata": {},
   "outputs": [],
   "source": [
    "%load_ext autoreload\n",
    "\n",
    "%autoreload 2"
   ]
  },
  {
   "cell_type": "markdown",
   "metadata": {},
   "source": [
    "# Imports"
   ]
  },
  {
   "cell_type": "code",
   "execution_count": 2,
   "metadata": {},
   "outputs": [],
   "source": [
    "import os\n",
    "import gc\n",
    "import configparser\n",
    "import pathlib as p\n",
    "import numpy as np\n",
    "import seaborn as sns"
   ]
  },
  {
   "cell_type": "code",
   "execution_count": 3,
   "metadata": {},
   "outputs": [],
   "source": [
    "import matplotlib as mpl\n",
    "import matplotlib.pyplot as plt "
   ]
  },
  {
   "cell_type": "code",
   "execution_count": 4,
   "metadata": {},
   "outputs": [],
   "source": [
    "import pandas as pd\n",
    "pd.options.display.max_columns = 999"
   ]
  },
  {
   "cell_type": "code",
   "execution_count": 5,
   "metadata": {},
   "outputs": [],
   "source": [
    "import torch"
   ]
  },
  {
   "cell_type": "code",
   "execution_count": 6,
   "metadata": {},
   "outputs": [],
   "source": [
    "import clipper_python as clipper"
   ]
  },
  {
   "cell_type": "code",
   "execution_count": 7,
   "metadata": {},
   "outputs": [],
   "source": [
    "import torch.nn as nn\n",
    "import torch.optim as optim"
   ]
  },
  {
   "cell_type": "code",
   "execution_count": 8,
   "metadata": {},
   "outputs": [],
   "source": [
    "from frag_nn.pytorch.network import GNINA_regressor_v5, GNINA_regressor_v6, GNINA_regressor_v7, GNINA_regressor_v8, GNINA_regressor_v9, GNINA_regressor_v10\n",
    "from frag_nn.pytorch.network import ClassifierV3\n",
    "from frag_nn.data import XChemData\n",
    "from frag_nn.pytorch.dataset import EventDataset\n",
    "from frag_nn.pytorch.dataset import OrthogonalGrid\n",
    "from frag_nn.pytorch.dataset import GetRandomisedLocation, GetRandomisedRotation\n",
    "from frag_nn.pytorch.dataset import GetAnnotationClassifier, GetDataRefMove, GetDataRefMoveZ\n",
    "\n",
    "\n",
    "import frag_nn.constants as c\n"
   ]
  },
  {
   "cell_type": "code",
   "execution_count": 9,
   "metadata": {},
   "outputs": [],
   "source": [
    "# Args"
   ]
  },
  {
   "cell_type": "code",
   "execution_count": 10,
   "metadata": {},
   "outputs": [],
   "source": [
    "config_path = \"/dls/science/groups/i04-1/conor_dev/pandda_nn/frag_nn/params.ini\""
   ]
  },
  {
   "cell_type": "code",
   "execution_count": 11,
   "metadata": {},
   "outputs": [],
   "source": [
    "grid_size = 48\n",
    "grid_step = 0.5"
   ]
  },
  {
   "cell_type": "code",
   "execution_count": null,
   "metadata": {},
   "outputs": [],
   "source": []
  },
  {
   "cell_type": "markdown",
   "metadata": {},
   "source": [
    "# Get Config"
   ]
  },
  {
   "cell_type": "code",
   "execution_count": null,
   "metadata": {},
   "outputs": [],
   "source": []
  },
  {
   "cell_type": "code",
   "execution_count": 12,
   "metadata": {},
   "outputs": [],
   "source": [
    "conf = configparser.ConfigParser()"
   ]
  },
  {
   "cell_type": "code",
   "execution_count": 13,
   "metadata": {},
   "outputs": [
    {
     "data": {
      "text/plain": [
       "['/dls/science/groups/i04-1/conor_dev/pandda_nn/frag_nn/params.ini']"
      ]
     },
     "execution_count": 13,
     "metadata": {},
     "output_type": "execute_result"
    }
   ],
   "source": [
    "conf.read(config_path)"
   ]
  },
  {
   "cell_type": "code",
   "execution_count": 14,
   "metadata": {},
   "outputs": [],
   "source": [
    "ds_conf = conf[c.x_chem_database]"
   ]
  },
  {
   "cell_type": "code",
   "execution_count": 15,
   "metadata": {},
   "outputs": [],
   "source": [
    "\n",
    "network_type = \"classifier\"\n",
    "network_version = 3\n",
    "dataset_version = 3"
   ]
  },
  {
   "cell_type": "markdown",
   "metadata": {},
   "source": [
    "# Load Database"
   ]
  },
  {
   "cell_type": "code",
   "execution_count": 16,
   "metadata": {},
   "outputs": [
    {
     "name": "stderr",
     "output_type": "stream",
     "text": [
      "/dls/science/groups/i04-1/conor_dev/anaconda/envs/env_pytorch/lib/python3.6/site-packages/IPython/core/interactiveshell.py:3057: DtypeWarning: Columns (14,15) have mixed types. Specify dtype option on import or set low_memory=False.\n",
      "  interactivity=interactivity, compiler=compiler, result=result)\n"
     ]
    }
   ],
   "source": [
    "events_train = pd.read_csv(\"new_events_train.csv\")"
   ]
  },
  {
   "cell_type": "code",
   "execution_count": 17,
   "metadata": {},
   "outputs": [],
   "source": [
    "events_test = pd.read_csv(\"new_events_test.csv\")"
   ]
  },
  {
   "cell_type": "markdown",
   "metadata": {},
   "source": [
    "# Create Dataset"
   ]
  },
  {
   "cell_type": "code",
   "execution_count": 18,
   "metadata": {},
   "outputs": [],
   "source": [
    "grid= OrthogonalGrid(grid_size, \n",
    "                     grid_step)"
   ]
  },
  {
   "cell_type": "code",
   "execution_count": 19,
   "metadata": {},
   "outputs": [],
   "source": [
    "dataset_train = EventDataset(events=events_train,\n",
    "                             transforms_record=[GetRandomisedLocation(), \n",
    "                                                   GetRandomisedRotation()],\n",
    "                             get_annotation=GetAnnotationClassifier(),\n",
    "                             get_data=GetDataRefMoveZ(grid)\n",
    "                            )"
   ]
  },
  {
   "cell_type": "code",
   "execution_count": 20,
   "metadata": {},
   "outputs": [
    {
     "data": {
      "text/plain": [
       "21004"
      ]
     },
     "execution_count": 20,
     "metadata": {},
     "output_type": "execute_result"
    }
   ],
   "source": [
    "len(dataset_train)"
   ]
  },
  {
   "cell_type": "code",
   "execution_count": 21,
   "metadata": {},
   "outputs": [],
   "source": [
    "sample = dataset_train[np.random.randint(len(dataset_train))]"
   ]
  },
  {
   "cell_type": "code",
   "execution_count": 40,
   "metadata": {},
   "outputs": [],
   "source": [
    "sample = dataset_train[300]"
   ]
  },
  {
   "cell_type": "code",
   "execution_count": 41,
   "metadata": {},
   "outputs": [],
   "source": [
    "x = sample[\"data\"]"
   ]
  },
  {
   "cell_type": "code",
   "execution_count": 42,
   "metadata": {},
   "outputs": [
    {
     "data": {
      "text/plain": [
       "array([1., 0.], dtype=float32)"
      ]
     },
     "execution_count": 42,
     "metadata": {},
     "output_type": "execute_result"
    }
   ],
   "source": [
    "sample[\"annotation\"]"
   ]
  },
  {
   "cell_type": "code",
   "execution_count": 43,
   "metadata": {},
   "outputs": [
    {
     "data": {
      "text/plain": [
       "<matplotlib.image.AxesImage at 0x7f0b7c7870f0>"
      ]
     },
     "execution_count": 43,
     "metadata": {},
     "output_type": "execute_result"
    },
    {
     "data": {
      "image/png": "[encoded data removed]",
      "text/plain": [
       "<Figure size 432x288 with 1 Axes>"
      ]
     },
     "metadata": {
      "needs_background": "light"
     },
     "output_type": "display_data"
    }
   ],
   "source": [
    "# Plot \n",
    "x_np_slice_2d_ref = x[0, :, :, int(x.shape[2]/2)]\n",
    "plt.imshow(x_np_slice_2d_ref)"
   ]
  },
  {
   "cell_type": "code",
   "execution_count": 44,
   "metadata": {},
   "outputs": [
    {
     "data": {
      "text/plain": [
       "<matplotlib.image.AxesImage at 0x7f0b7bba1898>"
      ]
     },
     "execution_count": 44,
     "metadata": {},
     "output_type": "execute_result"
    },
    {
     "data": {
      "image/png": "[encoded data removed]",
      "text/plain": [
       "<Figure size 432x288 with 1 Axes>"
      ]
     },
     "metadata": {
      "needs_background": "light"
     },
     "output_type": "display_data"
    }
   ],
   "source": [
    "x_np_slice_2d_z = x[1, :, :, int(x.shape[2]/2)]\n",
    "plt.imshow(x_np_slice_2d_z)"
   ]
  },
  {
   "cell_type": "code",
   "execution_count": 45,
   "metadata": {},
   "outputs": [
    {
     "data": {
      "text/plain": [
       "<matplotlib.image.AxesImage at 0x7f0b79dbc198>"
      ]
     },
     "execution_count": 45,
     "metadata": {},
     "output_type": "execute_result"
    },
    {
     "data": {
      "image/png": "[encoded data removed]",
      "text/plain": [
       "<Figure size 432x288 with 1 Axes>"
      ]
     },
     "metadata": {
      "needs_background": "light"
     },
     "output_type": "display_data"
    }
   ],
   "source": [
    "x_np_slice_2d_event = x[2, :, :, int(x.shape[2]/2)]\n",
    "plt.imshow(x_np_slice_2d_event)"
   ]
  },
  {
   "cell_type": "code",
   "execution_count": 46,
   "metadata": {},
   "outputs": [
    {
     "data": {
      "text/plain": [
       "0.6118457"
      ]
     },
     "execution_count": 46,
     "metadata": {},
     "output_type": "execute_result"
    }
   ],
   "source": [
    "x.std()"
   ]
  },
  {
   "cell_type": "markdown",
   "metadata": {},
   "source": [
    "# Create Dataloader"
   ]
  },
  {
   "cell_type": "code",
   "execution_count": 29,
   "metadata": {},
   "outputs": [],
   "source": [
    "train_dataloader = torch.utils.data.DataLoader(dataset_train,\n",
    "                                         batch_size=10, \n",
    "                                         shuffle=True,\n",
    "                                         num_workers=10)"
   ]
  },
  {
   "cell_type": "markdown",
   "metadata": {},
   "source": [
    "# Define Model"
   ]
  },
  {
   "cell_type": "code",
   "execution_count": 30,
   "metadata": {},
   "outputs": [],
   "source": [
    "model = ClassifierV3(32,\n",
    "                        grid_dimension=grid_size)"
   ]
  },
  {
   "cell_type": "code",
   "execution_count": 31,
   "metadata": {},
   "outputs": [
    {
     "data": {
      "text/plain": [
       "'model_params_48_0.5_classifier_3_3.pt'"
      ]
     },
     "execution_count": 31,
     "metadata": {},
     "output_type": "execute_result"
    }
   ],
   "source": [
    "\"model_params_{}_{}_{}_{}_{}.pt\".format(grid_size,\n",
    "                                                             grid_step,\n",
    "                                                                           network_type,\n",
    "                                                                    network_version,\n",
    "                                                                       dataset_version)"
   ]
  },
  {
   "cell_type": "code",
   "execution_count": 32,
   "metadata": {},
   "outputs": [
    {
     "ename": "FileNotFoundError",
     "evalue": "[Errno 2] No such file or directory: 'model_params_48_0.5_classifier_3_3.pt'",
     "output_type": "error",
     "traceback": [
      "\u001b[0;31m---------------------------------------------------------------------------\u001b[0m",
      "\u001b[0;31mFileNotFoundError\u001b[0m                         Traceback (most recent call last)",
      "\u001b[0;32m<ipython-input-32-056f78792c26>\u001b[0m in \u001b[0;36m<module>\u001b[0;34m\u001b[0m\n\u001b[1;32m      3\u001b[0m                                                                            \u001b[0mnetwork_type\u001b[0m\u001b[0;34m,\u001b[0m\u001b[0;34m\u001b[0m\u001b[0;34m\u001b[0m\u001b[0m\n\u001b[1;32m      4\u001b[0m                                                                     \u001b[0mnetwork_version\u001b[0m\u001b[0;34m,\u001b[0m\u001b[0;34m\u001b[0m\u001b[0;34m\u001b[0m\u001b[0m\n\u001b[0;32m----> 5\u001b[0;31m                                                                        dataset_version)))\n\u001b[0m",
      "\u001b[0;32m/dls/science/groups/i04-1/conor_dev/anaconda/envs/env_pytorch/lib/python3.6/site-packages/torch/serialization.py\u001b[0m in \u001b[0;36mload\u001b[0;34m(f, map_location, pickle_module)\u001b[0m\n\u001b[1;32m    299\u001b[0m             \u001b[0;34m(\u001b[0m\u001b[0msys\u001b[0m\u001b[0;34m.\u001b[0m\u001b[0mversion_info\u001b[0m\u001b[0;34m[\u001b[0m\u001b[0;36m0\u001b[0m\u001b[0;34m]\u001b[0m \u001b[0;34m==\u001b[0m \u001b[0;36m3\u001b[0m \u001b[0;32mand\u001b[0m \u001b[0misinstance\u001b[0m\u001b[0;34m(\u001b[0m\u001b[0mf\u001b[0m\u001b[0;34m,\u001b[0m \u001b[0mpathlib\u001b[0m\u001b[0;34m.\u001b[0m\u001b[0mPath\u001b[0m\u001b[0;34m)\u001b[0m\u001b[0;34m)\u001b[0m\u001b[0;34m:\u001b[0m\u001b[0;34m\u001b[0m\u001b[0;34m\u001b[0m\u001b[0m\n\u001b[1;32m    300\u001b[0m         \u001b[0mnew_fd\u001b[0m \u001b[0;34m=\u001b[0m \u001b[0;32mTrue\u001b[0m\u001b[0;34m\u001b[0m\u001b[0;34m\u001b[0m\u001b[0m\n\u001b[0;32m--> 301\u001b[0;31m         \u001b[0mf\u001b[0m \u001b[0;34m=\u001b[0m \u001b[0mopen\u001b[0m\u001b[0;34m(\u001b[0m\u001b[0mf\u001b[0m\u001b[0;34m,\u001b[0m \u001b[0;34m'rb'\u001b[0m\u001b[0;34m)\u001b[0m\u001b[0;34m\u001b[0m\u001b[0;34m\u001b[0m\u001b[0m\n\u001b[0m\u001b[1;32m    302\u001b[0m     \u001b[0;32mtry\u001b[0m\u001b[0;34m:\u001b[0m\u001b[0;34m\u001b[0m\u001b[0;34m\u001b[0m\u001b[0m\n\u001b[1;32m    303\u001b[0m         \u001b[0;32mreturn\u001b[0m \u001b[0m_load\u001b[0m\u001b[0;34m(\u001b[0m\u001b[0mf\u001b[0m\u001b[0;34m,\u001b[0m \u001b[0mmap_location\u001b[0m\u001b[0;34m,\u001b[0m \u001b[0mpickle_module\u001b[0m\u001b[0;34m)\u001b[0m\u001b[0;34m\u001b[0m\u001b[0;34m\u001b[0m\u001b[0m\n",
      "\u001b[0;31mFileNotFoundError\u001b[0m: [Errno 2] No such file or directory: 'model_params_48_0.5_classifier_3_3.pt'"
     ]
    }
   ],
   "source": [
    "model.load_state_dict(torch.load(\"model_params_{}_{}_{}_{}_{}.pt\".format(grid_size,\n",
    "                                                             grid_step,\n",
    "                                                                           network_type,\n",
    "                                                                    network_version,\n",
    "                                                                       dataset_version)))"
   ]
  },
  {
   "cell_type": "code",
   "execution_count": 47,
   "metadata": {},
   "outputs": [
    {
     "name": "stdout",
     "output_type": "stream",
     "text": [
      "ClassifierV3(\n",
      "  (conv_1): Sequential(\n",
      "    (0): Conv3d(3, 32, kernel_size=(9, 9, 9), stride=(1, 1, 1), padding=(4, 4, 4))\n",
      "    (1): BatchNorm3d(32, eps=1e-05, momentum=0.1, affine=True, track_running_stats=True)\n",
      "    (2): ReLU()\n",
      "    (3): MaxPool3d(kernel_size=2, stride=2, padding=0, dilation=1, ceil_mode=False)\n",
      "  )\n",
      "  (layer_1): ResidualLayerWithDrop(\n",
      "    (conv_1): Sequential(\n",
      "      (0): Conv3d(32, 64, kernel_size=(3, 3, 3), stride=(1, 1, 1), padding=(1, 1, 1))\n",
      "      (1): BatchNorm3d(64, eps=1e-05, momentum=0.1, affine=True, track_running_stats=True)\n",
      "      (2): ReLU()\n",
      "    )\n",
      "    (res_1): ResidualBlock(\n",
      "      (conv_1): Conv3d(64, 64, kernel_size=(3, 3, 3), stride=(1, 1, 1), padding=(1, 1, 1))\n",
      "      (bn): BatchNorm3d(64, eps=1e-05, momentum=0.1, affine=True, track_running_stats=True)\n",
      "      (act): ReLU()\n",
      "    )\n",
      "    (drop): Dropout3d(p=0.1)\n",
      "    (mp): MaxPool3d(kernel_size=2, stride=2, padding=0, dilation=1, ceil_mode=False)\n",
      "    (act): ReLU()\n",
      "  )\n",
      "  (layer_2): ResidualLayerWithDrop(\n",
      "    (conv_1): Sequential(\n",
      "      (0): Conv3d(64, 128, kernel_size=(3, 3, 3), stride=(1, 1, 1), padding=(1, 1, 1))\n",
      "      (1): BatchNorm3d(128, eps=1e-05, momentum=0.1, affine=True, track_running_stats=True)\n",
      "      (2): ReLU()\n",
      "    )\n",
      "    (res_1): ResidualBlock(\n",
      "      (conv_1): Conv3d(128, 128, kernel_size=(3, 3, 3), stride=(1, 1, 1), padding=(1, 1, 1))\n",
      "      (bn): BatchNorm3d(128, eps=1e-05, momentum=0.1, affine=True, track_running_stats=True)\n",
      "      (act): ReLU()\n",
      "    )\n",
      "    (drop): Dropout3d(p=0.1)\n",
      "    (mp): MaxPool3d(kernel_size=2, stride=2, padding=0, dilation=1, ceil_mode=False)\n",
      "    (act): ReLU()\n",
      "  )\n",
      "  (layer_3): ResidualLayerWithDrop(\n",
      "    (conv_1): Sequential(\n",
      "      (0): Conv3d(128, 256, kernel_size=(3, 3, 3), stride=(1, 1, 1), padding=(1, 1, 1))\n",
      "      (1): BatchNorm3d(256, eps=1e-05, momentum=0.1, affine=True, track_running_stats=True)\n",
      "      (2): ReLU()\n",
      "    )\n",
      "    (res_1): ResidualBlock(\n",
      "      (conv_1): Conv3d(256, 256, kernel_size=(3, 3, 3), stride=(1, 1, 1), padding=(1, 1, 1))\n",
      "      (bn): BatchNorm3d(256, eps=1e-05, momentum=0.1, affine=True, track_running_stats=True)\n",
      "      (act): ReLU()\n",
      "    )\n",
      "    (drop): Dropout3d(p=0.1)\n",
      "    (mp): MaxPool3d(kernel_size=2, stride=2, padding=0, dilation=1, ceil_mode=False)\n",
      "    (act): ReLU()\n",
      "  )\n",
      "  (fc1): Sequential(\n",
      "    (0): Linear(in_features=6912, out_features=64, bias=True)\n",
      "    (1): ReLU()\n",
      "  )\n",
      "  (fc2): Sequential(\n",
      "    (0): Linear(in_features=64, out_features=2, bias=True)\n",
      "  )\n",
      "  (act): Softmax()\n",
      ")\n"
     ]
    }
   ],
   "source": [
    "print(model)"
   ]
  },
  {
   "cell_type": "markdown",
   "metadata": {},
   "source": [
    "# Define loss function"
   ]
  },
  {
   "cell_type": "code",
   "execution_count": 48,
   "metadata": {},
   "outputs": [],
   "source": [
    "# criterion = nn.MSELoss()\n",
    "criterion = nn.BCELoss()"
   ]
  },
  {
   "cell_type": "markdown",
   "metadata": {},
   "source": [
    "# Define optimizer"
   ]
  },
  {
   "cell_type": "code",
   "execution_count": 49,
   "metadata": {},
   "outputs": [],
   "source": [
    "optimizer = optim.Adam(model.parameters(), \n",
    "                       lr=0.0001)\n"
   ]
  },
  {
   "cell_type": "markdown",
   "metadata": {},
   "source": [
    "# Fit Model"
   ]
  },
  {
   "cell_type": "code",
   "execution_count": 50,
   "metadata": {},
   "outputs": [],
   "source": [
    "num_epochs = 500"
   ]
  },
  {
   "cell_type": "code",
   "execution_count": 51,
   "metadata": {},
   "outputs": [],
   "source": [
    "running_loss = 0"
   ]
  },
  {
   "cell_type": "code",
   "execution_count": null,
   "metadata": {
    "scrolled": true
   },
   "outputs": [
    {
     "name": "stderr",
     "output_type": "stream",
     "text": [
      "/dls/science/groups/i04-1/conor_dev/pandda_nn/frag_nn/pytorch/network.py:1063: UserWarning: Implicit dimension choice for softmax has been deprecated. Change the call to include dim=X as an argument.\n",
      "  return self.act(x)\n"
     ]
    },
    {
     "name": "stdout",
     "output_type": "stream",
     "text": [
      "Loss at epoch 0, iteration 29 is 0.49229135441369026\n",
      "[tensor([ 0.8473,  0.1527]), tensor([ 0.9385,  0.0615]), tensor([ 0.8796,  0.1204]), tensor([ 0.8548,  0.1452]), tensor([ 0.8309,  0.1691]), tensor([ 0.6806,  0.3194]), tensor([ 0.7592,  0.2408]), tensor([ 0.6126,  0.3874]), tensor([ 0.8819,  0.1181]), tensor([ 0.8411,  0.1589])]\n",
      "[tensor([ 1.,  0.]), tensor([ 1.,  0.]), tensor([ 1.,  0.]), tensor([ 1.,  0.]), tensor([ 1.,  0.]), tensor([ 1.,  0.]), tensor([ 1.,  0.]), tensor([ 1.,  0.]), tensor([ 0.,  1.]), tensor([ 1.,  0.])]\n",
      "#################################################\n",
      "Loss at epoch 0, iteration 59 is 0.4578486526921644\n",
      "[tensor([ 0.7400,  0.2600]), tensor([ 0.9705,  0.0295]), tensor([ 0.9603,  0.0397]), tensor([ 0.8148,  0.1852]), tensor([ 0.7840,  0.2160]), tensor([ 0.6821,  0.3179]), tensor([ 0.9328,  0.0672]), tensor([ 0.7070,  0.2930]), tensor([ 0.9733,  0.0267]), tensor([ 0.9483,  0.0517])]\n",
      "[tensor([ 0.,  1.]), tensor([ 1.,  0.]), tensor([ 1.,  0.]), tensor([ 1.,  0.]), tensor([ 1.,  0.]), tensor([ 1.,  0.]), tensor([ 1.,  0.]), tensor([ 1.,  0.]), tensor([ 1.,  0.]), tensor([ 1.,  0.])]\n",
      "#################################################\n",
      "Loss at epoch 0, iteration 89 is 0.45647948277130557\n",
      "[tensor([ 0.8153,  0.1847]), tensor([ 0.6967,  0.3033]), tensor([ 0.9296,  0.0704]), tensor([ 0.8483,  0.1517]), tensor([ 0.7044,  0.2956]), tensor([ 0.8186,  0.1814]), tensor([ 0.7859,  0.2141]), tensor([ 0.9094,  0.0906]), tensor([ 0.8959,  0.1041]), tensor([ 0.8386,  0.1614])]\n",
      "[tensor([ 1.,  0.]), tensor([ 1.,  0.]), tensor([ 1.,  0.]), tensor([ 1.,  0.]), tensor([ 1.,  0.]), tensor([ 1.,  0.]), tensor([ 1.,  0.]), tensor([ 1.,  0.]), tensor([ 1.,  0.]), tensor([ 1.,  0.])]\n",
      "#################################################\n",
      "Loss at epoch 0, iteration 119 is 0.4454808766100587\n",
      "[tensor([ 0.7749,  0.2251]), tensor([ 0.8925,  0.1075]), tensor([ 0.8577,  0.1423]), tensor([ 0.7824,  0.2176]), tensor([ 0.8445,  0.1555]), tensor([ 0.9342,  0.0658]), tensor([ 0.8632,  0.1368]), tensor([ 0.8607,  0.1393]), tensor([ 0.8873,  0.1127]), tensor([ 0.8887,  0.1113])]\n",
      "[tensor([ 0.,  1.]), tensor([ 1.,  0.]), tensor([ 0.,  1.]), tensor([ 1.,  0.]), tensor([ 1.,  0.]), tensor([ 1.,  0.]), tensor([ 1.,  0.]), tensor([ 1.,  0.]), tensor([ 1.,  0.]), tensor([ 1.,  0.])]\n",
      "#################################################\n",
      "Loss at epoch 0, iteration 149 is 0.43278151455541586\n",
      "[tensor([ 0.8226,  0.1774]), tensor([ 0.7526,  0.2474]), tensor([ 0.9832,  0.0168]), tensor([ 0.9911,  0.0089]), tensor([ 0.7743,  0.2257]), tensor([ 0.9945,  0.0055]), tensor([ 0.8006,  0.1994]), tensor([ 0.7193,  0.2807]), tensor([ 0.7473,  0.2527]), tensor([ 0.7891,  0.2109])]\n",
      "[tensor([ 1.,  0.]), tensor([ 1.,  0.]), tensor([ 1.,  0.]), tensor([ 1.,  0.]), tensor([ 1.,  0.]), tensor([ 1.,  0.]), tensor([ 1.,  0.]), tensor([ 1.,  0.]), tensor([ 1.,  0.]), tensor([ 0.,  1.])]\n",
      "#################################################\n",
      "Loss at epoch 0, iteration 179 is 0.4256096591746341\n",
      "[tensor([ 0.9774,  0.0226]), tensor([ 0.7815,  0.2185]), tensor([ 0.7483,  0.2517]), tensor([ 0.8081,  0.1919]), tensor([ 0.7105,  0.2895]), tensor([ 0.7693,  0.2307]), tensor([ 0.8076,  0.1924]), tensor([ 0.8307,  0.1693]), tensor([ 0.7553,  0.2447]), tensor([ 0.8534,  0.1466])]\n",
      "[tensor([ 1.,  0.]), tensor([ 0.,  1.]), tensor([ 1.,  0.]), tensor([ 1.,  0.]), tensor([ 1.,  0.]), tensor([ 1.,  0.]), tensor([ 1.,  0.]), tensor([ 1.,  0.]), tensor([ 0.,  1.]), tensor([ 0.,  1.])]\n",
      "#################################################\n",
      "Loss at epoch 0, iteration 209 is 0.42957670833362915\n",
      "[tensor([ 0.8746,  0.1254]), tensor([ 0.9105,  0.0895]), tensor([ 0.9939,  0.0061]), tensor([ 0.7748,  0.2252]), tensor([ 0.8678,  0.1322]), tensor([ 0.7575,  0.2425]), tensor([ 0.7783,  0.2217]), tensor([ 0.8093,  0.1907]), tensor([ 0.8079,  0.1921]), tensor([ 0.8273,  0.1727])]\n",
      "[tensor([ 0.,  1.]), tensor([ 1.,  0.]), tensor([ 1.,  0.]), tensor([ 1.,  0.]), tensor([ 0.,  1.]), tensor([ 1.,  0.]), tensor([ 0.,  1.]), tensor([ 1.,  0.]), tensor([ 1.,  0.]), tensor([ 0.,  1.])]\n",
      "#################################################\n",
      "Loss at epoch 0, iteration 239 is 0.4303531041018135\n",
      "[tensor([ 0.9229,  0.0771]), tensor([ 0.9508,  0.0492]), tensor([ 0.7528,  0.2472]), tensor([ 0.8786,  0.1214]), tensor([ 0.9501,  0.0499]), tensor([ 0.8211,  0.1789]), tensor([ 0.7957,  0.2043]), tensor([ 0.9064,  0.0936]), tensor([ 0.8944,  0.1056]), tensor([ 0.9862,  0.0138])]\n",
      "[tensor([ 1.,  0.]), tensor([ 1.,  0.]), tensor([ 0.,  1.]), tensor([ 1.,  0.]), tensor([ 1.,  0.]), tensor([ 1.,  0.]), tensor([ 1.,  0.]), tensor([ 1.,  0.]), tensor([ 1.,  0.]), tensor([ 1.,  0.])]\n",
      "#################################################\n",
      "Loss at epoch 0, iteration 269 is 0.4183633395065605\n",
      "[tensor([ 0.9482,  0.0518]), tensor([ 0.8585,  0.1415]), tensor([ 0.9576,  0.0424]), tensor([ 0.9925,  0.0075]), tensor([ 0.8242,  0.1758]), tensor([ 0.7943,  0.2057]), tensor([ 0.8539,  0.1461]), tensor([ 0.9455,  0.0545]), tensor([ 0.8932,  0.1068]), tensor([ 0.9799,  0.0201])]\n",
      "[tensor([ 1.,  0.]), tensor([ 0.,  1.]), tensor([ 1.,  0.]), tensor([ 1.,  0.]), tensor([ 0.,  1.]), tensor([ 0.,  1.]), tensor([ 1.,  0.]), tensor([ 1.,  0.]), tensor([ 1.,  0.]), tensor([ 1.,  0.])]\n",
      "#################################################\n",
      "Loss at epoch 0, iteration 299 is 0.4176004222753056\n",
      "[tensor([ 0.9741,  0.0259]), tensor([ 0.8638,  0.1362]), tensor([ 0.7533,  0.2467]), tensor([ 0.9844,  0.0156]), tensor([ 0.8306,  0.1694]), tensor([ 0.9304,  0.0696]), tensor([ 0.8578,  0.1422]), tensor([ 0.9552,  0.0448]), tensor([ 0.7611,  0.2389]), tensor([ 0.8792,  0.1208])]\n",
      "[tensor([ 1.,  0.]), tensor([ 0.,  1.]), tensor([ 1.,  0.]), tensor([ 1.,  0.]), tensor([ 1.,  0.]), tensor([ 1.,  0.]), tensor([ 1.,  0.]), tensor([ 1.,  0.]), tensor([ 1.,  0.]), tensor([ 1.,  0.])]\n",
      "#################################################\n",
      "Loss at epoch 0, iteration 329 is 0.4158658958450639\n",
      "[tensor([ 0.8484,  0.1516]), tensor([ 0.8241,  0.1759]), tensor([ 0.7001,  0.2999]), tensor([ 0.8674,  0.1326]), tensor([ 0.9362,  0.0638]), tensor([ 0.9521,  0.0479]), tensor([ 0.9502,  0.0498]), tensor([ 0.9518,  0.0482]), tensor([ 0.7279,  0.2721]), tensor([ 0.7945,  0.2055])]\n",
      "[tensor([ 1.,  0.]), tensor([ 1.,  0.]), tensor([ 1.,  0.]), tensor([ 1.,  0.]), tensor([ 1.,  0.]), tensor([ 1.,  0.]), tensor([ 1.,  0.]), tensor([ 1.,  0.]), tensor([ 1.,  0.]), tensor([ 1.,  0.])]\n",
      "#################################################\n"
     ]
    }
   ],
   "source": [
    "for epoch in range(num_epochs):\n",
    "    for i, data in enumerate(train_dataloader):\n",
    "        # get the inputs; data is a list of [inputs, labels]\n",
    "        x = data[\"data\"]\n",
    "        y = data[\"annotation\"]\n",
    "        y = y.view(-1,2)\n",
    "#         y = y + 1\n",
    "#         print(\"meanx\")\n",
    "#         print(x.mean())\n",
    "#         print(x.shape)\n",
    "#         print(y.shape)\n",
    "\n",
    "        # zero the parameter gradients\n",
    "        optimizer.zero_grad()\n",
    "\n",
    "        # forward + backward + optimize\n",
    "        outputs = model(x)\n",
    "#         print(outputs)\n",
    "#         print(outputs)\n",
    "        loss = criterion(outputs, y)\n",
    "#         print(loss)\n",
    "        loss.backward()\n",
    "        optimizer.step()\n",
    "        \n",
    "        # RECORD LOSS\n",
    "        running_loss += loss.item()\n",
    "#         print(\"Iteration number: {}, loss: {}\".format(i, loss.item()))\n",
    "#         print(\"{}\".format([round(float(x), 3) for x in outputs]))\n",
    "#         print(\"{}\".format([round(float(x), 3) for x in y]))\n",
    "#         print(\"{}\".format([x for x in outputs]))\n",
    "#         print(\"{}\".format([x for x in y]))\n",
    "\n",
    "\n",
    "\n",
    "        # print statistics per epoch\n",
    "        if i % 30 == 29:    # print every 100 mini-batches\n",
    "            print(\"Loss at epoch {}, iteration {} is {}\".format(epoch,\n",
    "                                                                 i,\n",
    "                                                                 running_loss / i))\n",
    "            print(\"{}\".format([x for x in outputs]))\n",
    "            print(\"{}\".format([x for x in y]))\n",
    "            print(\"#################################################\")\n",
    "    print(\"###################################\")\n",
    "#         print('[%d, %5d] loss: %.3f' %\n",
    "#               (epoch + 1, i + 1, running_loss / 20))\n",
    "    print(\"Loss for epoch {}: {}\".format(epoch, running_loss))\n",
    "    print(outputs)\n",
    "    print(y)\n",
    "    print(loss)\n",
    "    running_loss = 0.0\n",
    "            \n",
    "    torch.save(model.state_dict(), \"model_params_{}_{}_{}_{}_{}.pt\".format(grid_size,\n",
    "                                                             grid_step,\n",
    "                                                                           network_type,\n",
    "                                                                    network_version,\n",
    "                                                                       dataset_version))"
   ]
  },
  {
   "cell_type": "code",
   "execution_count": null,
   "metadata": {},
   "outputs": [],
   "source": [
    "torch.save(model.state_dict(), \"model_params_{}_{}_{}_{}_{}.pt\".format(grid_size,\n",
    "                                                             grid_step,\n",
    "                                                                           network_type,\n",
    "                                                                    network_version,\n",
    "                                                                       dataset_version))"
   ]
  },
  {
   "cell_type": "code",
   "execution_count": null,
   "metadata": {},
   "outputs": [],
   "source": [
    "model(x)"
   ]
  },
  {
   "cell_type": "code",
   "execution_count": null,
   "metadata": {},
   "outputs": [],
   "source": [
    "y"
   ]
  },
  {
   "cell_type": "code",
   "execution_count": null,
   "metadata": {},
   "outputs": [],
   "source": []
  }
 ],
 "metadata": {
  "kernelspec": {
   "display_name": "Python 3",
   "language": "python",
   "name": "python3"
  },
  "language_info": {
   "codemirror_mode": {
    "name": "ipython",
    "version": 3
   },
   "file_extension": ".py",
   "mimetype": "text/x-python",
   "name": "python",
   "nbconvert_exporter": "python",
   "pygments_lexer": "ipython3",
   "version": "3.6.8"
  }
 },
 "nbformat": 4,
 "nbformat_minor": 2
}
